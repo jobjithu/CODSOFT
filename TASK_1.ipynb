{
 "cells": [
  {
   "cell_type": "markdown",
   "id": "5664fc0f",
   "metadata": {},
   "source": [
    "# MOVIE GENRE CLASSIFICATION\n",
    "### Importing necessary Libraries"
   ]
  },
  {
   "cell_type": "code",
   "execution_count": 1,
   "id": "a7398e31",
   "metadata": {},
   "outputs": [],
   "source": [
    "import pandas as pd\n",
    "import numpy as np\n",
    "import seaborn as sns\n",
    "import matplotlib.pyplot as plt\n",
    "from nltk.corpus import stopwords \n",
    "from sklearn.feature_extraction.text import TfidfVectorizer\n",
    "from sklearn.svm import SVC\n",
    "from sklearn.linear_model import LogisticRegression\n",
    "from sklearn.naive_bayes import MultinomialNB\n",
    "from sklearn.metrics import classification_report, confusion_matrix\n",
    "from sklearn.model_selection import train_test_split \n",
    "from sklearn.metrics import accuracy_score "
   ]
  },
  {
   "cell_type": "markdown",
   "id": "9f99d3e9",
   "metadata": {},
   "source": [
    "### Dataset path"
   ]
  },
  {
   "cell_type": "code",
   "execution_count": 2,
   "id": "8df4ae47",
   "metadata": {},
   "outputs": [],
   "source": [
    "path = 'archive/Genre Classification Dataset/train_data.txt'"
   ]
  },
  {
   "cell_type": "markdown",
   "id": "211564dd",
   "metadata": {},
   "source": [
    "### Reading dataset as csv file"
   ]
  },
  {
   "cell_type": "code",
   "execution_count": 3,
   "id": "d3cf843f",
   "metadata": {},
   "outputs": [],
   "source": [
    "Movie_data = pd.read_csv(path,sep = ':::',names=['Movie Name','Genre','Description'],engine='python')"
   ]
  },
  {
   "cell_type": "markdown",
   "id": "39c420ad",
   "metadata": {},
   "source": [
    "### Visualizing the Dataset"
   ]
  },
  {
   "cell_type": "code",
   "execution_count": 4,
   "id": "32d5db48",
   "metadata": {},
   "outputs": [
    {
     "data": {
      "text/html": [
       "<div>\n",
       "<style scoped>\n",
       "    .dataframe tbody tr th:only-of-type {\n",
       "        vertical-align: middle;\n",
       "    }\n",
       "\n",
       "    .dataframe tbody tr th {\n",
       "        vertical-align: top;\n",
       "    }\n",
       "\n",
       "    .dataframe thead th {\n",
       "        text-align: right;\n",
       "    }\n",
       "</style>\n",
       "<table border=\"1\" class=\"dataframe\">\n",
       "  <thead>\n",
       "    <tr style=\"text-align: right;\">\n",
       "      <th></th>\n",
       "      <th>Movie Name</th>\n",
       "      <th>Genre</th>\n",
       "      <th>Description</th>\n",
       "    </tr>\n",
       "  </thead>\n",
       "  <tbody>\n",
       "    <tr>\n",
       "      <th>1</th>\n",
       "      <td>Oscar et la dame rose (2009)</td>\n",
       "      <td>drama</td>\n",
       "      <td>Listening in to a conversation between his do...</td>\n",
       "    </tr>\n",
       "    <tr>\n",
       "      <th>2</th>\n",
       "      <td>Cupid (1997)</td>\n",
       "      <td>thriller</td>\n",
       "      <td>A brother and sister with a past incestuous r...</td>\n",
       "    </tr>\n",
       "    <tr>\n",
       "      <th>3</th>\n",
       "      <td>Young, Wild and Wonderful (1980)</td>\n",
       "      <td>adult</td>\n",
       "      <td>As the bus empties the students for their fie...</td>\n",
       "    </tr>\n",
       "    <tr>\n",
       "      <th>4</th>\n",
       "      <td>The Secret Sin (1915)</td>\n",
       "      <td>drama</td>\n",
       "      <td>To help their unemployed father make ends mee...</td>\n",
       "    </tr>\n",
       "    <tr>\n",
       "      <th>5</th>\n",
       "      <td>The Unrecovered (2007)</td>\n",
       "      <td>drama</td>\n",
       "      <td>The film's title refers not only to the un-re...</td>\n",
       "    </tr>\n",
       "    <tr>\n",
       "      <th>...</th>\n",
       "      <td>...</td>\n",
       "      <td>...</td>\n",
       "      <td>...</td>\n",
       "    </tr>\n",
       "    <tr>\n",
       "      <th>54210</th>\n",
       "      <td>\"Bonino\" (1953)</td>\n",
       "      <td>comedy</td>\n",
       "      <td>This short-lived NBC live sitcom centered on ...</td>\n",
       "    </tr>\n",
       "    <tr>\n",
       "      <th>54211</th>\n",
       "      <td>Dead Girls Don't Cry (????)</td>\n",
       "      <td>horror</td>\n",
       "      <td>The NEXT Generation of EXPLOITATION. The sist...</td>\n",
       "    </tr>\n",
       "    <tr>\n",
       "      <th>54212</th>\n",
       "      <td>Ronald Goedemondt: Ze bestaan echt (2008)</td>\n",
       "      <td>documentary</td>\n",
       "      <td>Ze bestaan echt, is a stand-up comedy about g...</td>\n",
       "    </tr>\n",
       "    <tr>\n",
       "      <th>54213</th>\n",
       "      <td>Make Your Own Bed (1944)</td>\n",
       "      <td>comedy</td>\n",
       "      <td>Walter and Vivian live in the country and hav...</td>\n",
       "    </tr>\n",
       "    <tr>\n",
       "      <th>54214</th>\n",
       "      <td>Nature's Fury: Storm of the Century (2006)</td>\n",
       "      <td>history</td>\n",
       "      <td>On Labor Day Weekend, 1935, the most intense ...</td>\n",
       "    </tr>\n",
       "  </tbody>\n",
       "</table>\n",
       "<p>54214 rows × 3 columns</p>\n",
       "</div>"
      ],
      "text/plain": [
       "                                         Movie Name          Genre  \\\n",
       "1                     Oscar et la dame rose (2009)          drama    \n",
       "2                                     Cupid (1997)       thriller    \n",
       "3                 Young, Wild and Wonderful (1980)          adult    \n",
       "4                            The Secret Sin (1915)          drama    \n",
       "5                           The Unrecovered (2007)          drama    \n",
       "...                                             ...            ...   \n",
       "54210                              \"Bonino\" (1953)         comedy    \n",
       "54211                  Dead Girls Don't Cry (????)         horror    \n",
       "54212    Ronald Goedemondt: Ze bestaan echt (2008)    documentary    \n",
       "54213                     Make Your Own Bed (1944)         comedy    \n",
       "54214   Nature's Fury: Storm of the Century (2006)        history    \n",
       "\n",
       "                                             Description  \n",
       "1       Listening in to a conversation between his do...  \n",
       "2       A brother and sister with a past incestuous r...  \n",
       "3       As the bus empties the students for their fie...  \n",
       "4       To help their unemployed father make ends mee...  \n",
       "5       The film's title refers not only to the un-re...  \n",
       "...                                                  ...  \n",
       "54210   This short-lived NBC live sitcom centered on ...  \n",
       "54211   The NEXT Generation of EXPLOITATION. The sist...  \n",
       "54212   Ze bestaan echt, is a stand-up comedy about g...  \n",
       "54213   Walter and Vivian live in the country and hav...  \n",
       "54214   On Labor Day Weekend, 1935, the most intense ...  \n",
       "\n",
       "[54214 rows x 3 columns]"
      ]
     },
     "execution_count": 4,
     "metadata": {},
     "output_type": "execute_result"
    }
   ],
   "source": [
    "Movie_data"
   ]
  },
  {
   "cell_type": "markdown",
   "id": "8a54ca82",
   "metadata": {},
   "source": [
    "### Description of the dataset"
   ]
  },
  {
   "cell_type": "code",
   "execution_count": 5,
   "id": "16cf62c1",
   "metadata": {},
   "outputs": [
    {
     "data": {
      "text/html": [
       "<div>\n",
       "<style scoped>\n",
       "    .dataframe tbody tr th:only-of-type {\n",
       "        vertical-align: middle;\n",
       "    }\n",
       "\n",
       "    .dataframe tbody tr th {\n",
       "        vertical-align: top;\n",
       "    }\n",
       "\n",
       "    .dataframe thead th {\n",
       "        text-align: right;\n",
       "    }\n",
       "</style>\n",
       "<table border=\"1\" class=\"dataframe\">\n",
       "  <thead>\n",
       "    <tr style=\"text-align: right;\">\n",
       "      <th></th>\n",
       "      <th>Movie Name</th>\n",
       "      <th>Genre</th>\n",
       "      <th>Description</th>\n",
       "    </tr>\n",
       "  </thead>\n",
       "  <tbody>\n",
       "    <tr>\n",
       "      <th>count</th>\n",
       "      <td>54214</td>\n",
       "      <td>54214</td>\n",
       "      <td>54214</td>\n",
       "    </tr>\n",
       "    <tr>\n",
       "      <th>unique</th>\n",
       "      <td>54214</td>\n",
       "      <td>27</td>\n",
       "      <td>54086</td>\n",
       "    </tr>\n",
       "    <tr>\n",
       "      <th>top</th>\n",
       "      <td>Oscar et la dame rose (2009)</td>\n",
       "      <td>drama</td>\n",
       "      <td>Grammy - music award of the American academy ...</td>\n",
       "    </tr>\n",
       "    <tr>\n",
       "      <th>freq</th>\n",
       "      <td>1</td>\n",
       "      <td>13613</td>\n",
       "      <td>12</td>\n",
       "    </tr>\n",
       "  </tbody>\n",
       "</table>\n",
       "</div>"
      ],
      "text/plain": [
       "                            Movie Name    Genre  \\\n",
       "count                            54214    54214   \n",
       "unique                           54214       27   \n",
       "top      Oscar et la dame rose (2009)    drama    \n",
       "freq                                 1    13613   \n",
       "\n",
       "                                              Description  \n",
       "count                                               54214  \n",
       "unique                                              54086  \n",
       "top      Grammy - music award of the American academy ...  \n",
       "freq                                                   12  "
      ]
     },
     "execution_count": 5,
     "metadata": {},
     "output_type": "execute_result"
    }
   ],
   "source": [
    "Movie_data.describe()"
   ]
  },
  {
   "cell_type": "markdown",
   "id": "4c0accae",
   "metadata": {},
   "source": [
    "### Graphical representation of overall genre count in the dataset"
   ]
  },
  {
   "cell_type": "code",
   "execution_count": 6,
   "id": "4be78672",
   "metadata": {},
   "outputs": [
    {
     "data": {
      "image/png": "[encoded data removed]",
      "text/plain": [
       "<Figure size 1000x500 with 1 Axes>"
      ]
     },
     "metadata": {},
     "output_type": "display_data"
    }
   ],
   "source": [
    "plt.figure(figsize=(10,5))\n",
    "plt.title(\"GENRE COUNT\",fontweight = 'bold',fontsize = 20)\n",
    "counts = Movie_data.Genre.value_counts()\n",
    "sns.barplot(x=counts.index, y=counts,color='r')\n",
    "plt.xlabel('GENRE',fontweight = 'bold')\n",
    "plt.ylabel('COUNT',fontweight = 'bold')\n",
    "plt.xticks(rotation=45);\n",
    "plt.yticks(rotation =30);"
   ]
  },
  {
   "cell_type": "markdown",
   "id": "c5ed630c",
   "metadata": {},
   "source": [
    "### Checking for null value"
   ]
  },
  {
   "cell_type": "code",
   "execution_count": 7,
   "id": "92b28080",
   "metadata": {},
   "outputs": [
    {
     "data": {
      "text/plain": [
       "Movie Name     0\n",
       "Genre          0\n",
       "Description    0\n",
       "dtype: int64"
      ]
     },
     "execution_count": 7,
     "metadata": {},
     "output_type": "execute_result"
    }
   ],
   "source": [
    "Movie_data.isnull().sum()"
   ]
  },
  {
   "cell_type": "markdown",
   "id": "cdf40d81",
   "metadata": {},
   "source": [
    "###  Adding one column as length in the dataset"
   ]
  },
  {
   "cell_type": "code",
   "execution_count": 8,
   "id": "2fa64d64",
   "metadata": {},
   "outputs": [
    {
     "data": {
      "text/html": [
       "<div>\n",
       "<style scoped>\n",
       "    .dataframe tbody tr th:only-of-type {\n",
       "        vertical-align: middle;\n",
       "    }\n",
       "\n",
       "    .dataframe tbody tr th {\n",
       "        vertical-align: top;\n",
       "    }\n",
       "\n",
       "    .dataframe thead th {\n",
       "        text-align: right;\n",
       "    }\n",
       "</style>\n",
       "<table border=\"1\" class=\"dataframe\">\n",
       "  <thead>\n",
       "    <tr style=\"text-align: right;\">\n",
       "      <th></th>\n",
       "      <th>Movie Name</th>\n",
       "      <th>Genre</th>\n",
       "      <th>Description</th>\n",
       "      <th>length</th>\n",
       "    </tr>\n",
       "  </thead>\n",
       "  <tbody>\n",
       "    <tr>\n",
       "      <th>1</th>\n",
       "      <td>Oscar et la dame rose (2009)</td>\n",
       "      <td>drama</td>\n",
       "      <td>Listening in to a conversation between his do...</td>\n",
       "      <td>546</td>\n",
       "    </tr>\n",
       "    <tr>\n",
       "      <th>2</th>\n",
       "      <td>Cupid (1997)</td>\n",
       "      <td>thriller</td>\n",
       "      <td>A brother and sister with a past incestuous r...</td>\n",
       "      <td>184</td>\n",
       "    </tr>\n",
       "    <tr>\n",
       "      <th>3</th>\n",
       "      <td>Young, Wild and Wonderful (1980)</td>\n",
       "      <td>adult</td>\n",
       "      <td>As the bus empties the students for their fie...</td>\n",
       "      <td>650</td>\n",
       "    </tr>\n",
       "    <tr>\n",
       "      <th>4</th>\n",
       "      <td>The Secret Sin (1915)</td>\n",
       "      <td>drama</td>\n",
       "      <td>To help their unemployed father make ends mee...</td>\n",
       "      <td>1082</td>\n",
       "    </tr>\n",
       "    <tr>\n",
       "      <th>5</th>\n",
       "      <td>The Unrecovered (2007)</td>\n",
       "      <td>drama</td>\n",
       "      <td>The film's title refers not only to the un-re...</td>\n",
       "      <td>625</td>\n",
       "    </tr>\n",
       "    <tr>\n",
       "      <th>...</th>\n",
       "      <td>...</td>\n",
       "      <td>...</td>\n",
       "      <td>...</td>\n",
       "      <td>...</td>\n",
       "    </tr>\n",
       "    <tr>\n",
       "      <th>54210</th>\n",
       "      <td>\"Bonino\" (1953)</td>\n",
       "      <td>comedy</td>\n",
       "      <td>This short-lived NBC live sitcom centered on ...</td>\n",
       "      <td>507</td>\n",
       "    </tr>\n",
       "    <tr>\n",
       "      <th>54211</th>\n",
       "      <td>Dead Girls Don't Cry (????)</td>\n",
       "      <td>horror</td>\n",
       "      <td>The NEXT Generation of EXPLOITATION. The sist...</td>\n",
       "      <td>781</td>\n",
       "    </tr>\n",
       "    <tr>\n",
       "      <th>54212</th>\n",
       "      <td>Ronald Goedemondt: Ze bestaan echt (2008)</td>\n",
       "      <td>documentary</td>\n",
       "      <td>Ze bestaan echt, is a stand-up comedy about g...</td>\n",
       "      <td>255</td>\n",
       "    </tr>\n",
       "    <tr>\n",
       "      <th>54213</th>\n",
       "      <td>Make Your Own Bed (1944)</td>\n",
       "      <td>comedy</td>\n",
       "      <td>Walter and Vivian live in the country and hav...</td>\n",
       "      <td>642</td>\n",
       "    </tr>\n",
       "    <tr>\n",
       "      <th>54214</th>\n",
       "      <td>Nature's Fury: Storm of the Century (2006)</td>\n",
       "      <td>history</td>\n",
       "      <td>On Labor Day Weekend, 1935, the most intense ...</td>\n",
       "      <td>311</td>\n",
       "    </tr>\n",
       "  </tbody>\n",
       "</table>\n",
       "<p>54214 rows × 4 columns</p>\n",
       "</div>"
      ],
      "text/plain": [
       "                                         Movie Name          Genre  \\\n",
       "1                     Oscar et la dame rose (2009)          drama    \n",
       "2                                     Cupid (1997)       thriller    \n",
       "3                 Young, Wild and Wonderful (1980)          adult    \n",
       "4                            The Secret Sin (1915)          drama    \n",
       "5                           The Unrecovered (2007)          drama    \n",
       "...                                             ...            ...   \n",
       "54210                              \"Bonino\" (1953)         comedy    \n",
       "54211                  Dead Girls Don't Cry (????)         horror    \n",
       "54212    Ronald Goedemondt: Ze bestaan echt (2008)    documentary    \n",
       "54213                     Make Your Own Bed (1944)         comedy    \n",
       "54214   Nature's Fury: Storm of the Century (2006)        history    \n",
       "\n",
       "                                             Description  length  \n",
       "1       Listening in to a conversation between his do...     546  \n",
       "2       A brother and sister with a past incestuous r...     184  \n",
       "3       As the bus empties the students for their fie...     650  \n",
       "4       To help their unemployed father make ends mee...    1082  \n",
       "5       The film's title refers not only to the un-re...     625  \n",
       "...                                                  ...     ...  \n",
       "54210   This short-lived NBC live sitcom centered on ...     507  \n",
       "54211   The NEXT Generation of EXPLOITATION. The sist...     781  \n",
       "54212   Ze bestaan echt, is a stand-up comedy about g...     255  \n",
       "54213   Walter and Vivian live in the country and hav...     642  \n",
       "54214   On Labor Day Weekend, 1935, the most intense ...     311  \n",
       "\n",
       "[54214 rows x 4 columns]"
      ]
     },
     "execution_count": 8,
     "metadata": {},
     "output_type": "execute_result"
    }
   ],
   "source": [
    "Movie_data['length']=Movie_data['Description'].apply(len)\n",
    "Movie_data"
   ]
  },
  {
   "cell_type": "markdown",
   "id": "7effa7e0",
   "metadata": {},
   "source": [
    "### Distribuiton of lengths in the dataset"
   ]
  },
  {
   "cell_type": "code",
   "execution_count": 9,
   "id": "2419be6e",
   "metadata": {},
   "outputs": [
    {
     "data": {
      "image/png": "[encoded data removed]",
      "text/plain": [
       "<Figure size 640x480 with 1 Axes>"
      ]
     },
     "metadata": {},
     "output_type": "display_data"
    }
   ],
   "source": [
    "sns.histplot(data=Movie_data, x='length', bins=20, kde=True, color='orange')\n",
    "\n",
    "plt.xlabel('Length', fontsize=15, fontweight='bold')\n",
    "plt.ylabel('Frequency', fontsize=15, fontweight='bold')\n",
    "plt.title('Distribution of Lengths', fontsize=17, fontweight='bold')\n",
    "\n",
    "plt.show()"
   ]
  },
  {
   "cell_type": "markdown",
   "id": "6371023f",
   "metadata": {},
   "source": [
    "### Splitting the dataset into traing and testing sets"
   ]
  },
  {
   "cell_type": "code",
   "execution_count": 10,
   "id": "da21907c",
   "metadata": {},
   "outputs": [
    {
     "name": "stdout",
     "output_type": "stream",
     "text": [
      "Split data into train and Test sets\n",
      "Train Set\t: 37949\n",
      "Test Set\t: 16265\n"
     ]
    }
   ],
   "source": [
    "x_train, x_test , y_train , y_test = train_test_split(Movie_data['Description'] , Movie_data['Genre'] , \n",
    "                                                      test_size=0.3 , shuffle=True , random_state = 42)\n",
    "\n",
    "print(f'Split data into train and Test sets')\n",
    "print(f'Train Set\\t: {len(x_train)}\\nTest Set\\t: {len(x_test)}')"
   ]
  },
  {
   "cell_type": "markdown",
   "id": "689b41f2",
   "metadata": {},
   "source": [
    "### Term Frequency-Inverse document frequency"
   ]
  },
  {
   "cell_type": "code",
   "execution_count": 11,
   "id": "bc03d51c",
   "metadata": {},
   "outputs": [
    {
     "name": "stdout",
     "output_type": "stream",
     "text": [
      "TfidfVectorizer(max_features=10000, stop_words='english')\n",
      "  (0, 9362)\t0.2214796965020501\n",
      "  (0, 1062)\t0.17130065619515436\n",
      "  (0, 3709)\t0.1799206603226229\n",
      "  (0, 3117)\t0.1556220015665628\n",
      "  (0, 8269)\t0.19667635265066485\n",
      "  (0, 7022)\t0.2629251190817071\n",
      "  (0, 7792)\t0.20644225637565136\n",
      "  (0, 1863)\t0.1543319452373192\n",
      "  (0, 6601)\t0.12525685992218885\n",
      "  (0, 3430)\t0.47185708995205605\n",
      "  (0, 9732)\t0.2040917244369018\n",
      "  (0, 8060)\t0.2598954525647719\n",
      "  (0, 5534)\t0.25198525005570127\n",
      "  (0, 9303)\t0.17150134636501776\n",
      "  (0, 5444)\t0.26379307149858755\n",
      "  (0, 8382)\t0.1494046512209682\n",
      "  (0, 6498)\t0.17320434834505144\n",
      "  (0, 240)\t0.2024939363959542\n",
      "  (0, 1441)\t0.18955921404419565\n",
      "  (0, 2395)\t0.22687815277149612\n",
      "\n",
      "  (0, 9903)\t0.04195653560631075\n",
      "  (0, 9892)\t0.05305977515481101\n",
      "  (0, 9873)\t0.1037524169760793\n",
      "  (0, 9489)\t0.12109599470035867\n",
      "  (0, 9487)\t0.09159531653403735\n",
      "  (0, 9388)\t0.11780539780342372\n",
      "  (0, 9315)\t0.07527632181235892\n",
      "  (0, 9303)\t0.06357666547243815\n",
      "  (0, 9225)\t0.08489775057768975\n",
      "  (0, 9172)\t0.0851716881231064\n",
      "  (0, 9047)\t0.0773196708697833\n",
      "  (0, 8997)\t0.08323139116135418\n",
      "  (0, 8554)\t0.09202906977860384\n",
      "  (0, 8504)\t0.09166672852411815\n",
      "  (0, 8396)\t0.11196730383626888\n",
      "  (0, 8260)\t0.06604110507568499\n",
      "  (0, 8259)\t0.10065293956355079\n",
      "  (0, 8158)\t0.35341619341027114\n",
      "  (0, 7743)\t0.07309088878104238\n",
      "  (0, 7659)\t0.12109599470035867\n",
      "  (0, 7578)\t0.08693164070973514\n",
      "  (0, 7453)\t0.09868381258844526\n",
      "  (0, 7427)\t0.0945862123788807\n",
      "  (0, 7389)\t0.11959505140136831\n",
      "  (0, 7056)\t0.11511678437275485\n",
      "  :\t:\n",
      "  (0, 2796)\t0.07497322005452754\n",
      "  (0, 2779)\t0.11114017787262062\n",
      "  (0, 2708)\t0.0672204092474807\n",
      "  (0, 2690)\t0.10203212598619411\n",
      "  (0, 2644)\t0.07745558470869891\n",
      "  (0, 2406)\t0.05624111860094276\n",
      "  (0, 2387)\t0.04888549889106037\n",
      "  (0, 2188)\t0.07231926362484752\n",
      "  (0, 2024)\t0.08195500891042973\n",
      "  (0, 1964)\t0.1154721400529113\n",
      "  (0, 1869)\t0.058422805378799764\n",
      "  (0, 1721)\t0.17907481630419117\n",
      "  (0, 1645)\t0.06472863298629854\n",
      "  (0, 1627)\t0.12276720149978719\n",
      "  (0, 1510)\t0.4356213606273968\n",
      "  (0, 1391)\t0.06505479424395498\n",
      "  (0, 1342)\t0.12276720149978719\n",
      "  (0, 1266)\t0.07879840478212694\n",
      "  (0, 996)\t0.07203291390651834\n",
      "  (0, 990)\t0.10339431350536057\n",
      "  (0, 462)\t0.07891854025008596\n",
      "  (0, 400)\t0.08540392201140824\n",
      "  (0, 397)\t0.09811874164992135\n",
      "  (0, 358)\t0.0781259977508111\n",
      "  (0, 180)\t0.10489525680435093\n"
     ]
    }
   ],
   "source": [
    "vectorize = TfidfVectorizer(stop_words='english', max_features=10000)\n",
    "print(vectorize)\n",
    "x_train_tfidf = vectorize.fit_transform(x_train)\n",
    "print(x_train_tfidf[0])\n",
    "x_test_tfidf = vectorize.transform(x_test)\n",
    "print(\"\")\n",
    "print(x_test_tfidf[0])"
   ]
  },
  {
   "cell_type": "markdown",
   "id": "e020f737",
   "metadata": {},
   "source": [
    "### Implementation by Logistic_Regression "
   ]
  },
  {
   "cell_type": "code",
   "execution_count": 12,
   "id": "349253d8",
   "metadata": {},
   "outputs": [
    {
     "name": "stdout",
     "output_type": "stream",
     "text": [
      "Logistic Regression accuracy is: 57.84%\n"
     ]
    }
   ],
   "source": [
    "import warnings\n",
    "warnings.filterwarnings(\"ignore\")\n",
    "\n",
    "Logistic_model = LogisticRegression()\n",
    "Logistic_model.fit(x_train_tfidf, y_train)\n",
    "L_prediction = Logistic_model.predict(x_test_tfidf)\n",
    "Logistic_accuracy = accuracy_score(L_prediction,y_test)\n",
    "print('Logistic Regression accuracy is: {:.2f}%'.format(Logistic_accuracy*100))"
   ]
  },
  {
   "cell_type": "markdown",
   "id": "7014e19c",
   "metadata": {},
   "source": [
    "### Implementation by Navies_bayes_Classifier"
   ]
  },
  {
   "cell_type": "code",
   "execution_count": 13,
   "id": "29d71636",
   "metadata": {},
   "outputs": [
    {
     "name": "stdout",
     "output_type": "stream",
     "text": [
      "Naive Bayes model accuracy is: 51.04%\n"
     ]
    }
   ],
   "source": [
    "NB_model = MultinomialNB()\n",
    "NB_model.fit(x_train_tfidf, y_train)\n",
    "pred_naive = NB_model.predict(x_test_tfidf)\n",
    "naive_accuracy = accuracy_score(pred_naive,y_test)\n",
    "print('Naive Bayes model accuracy is: {:.2f}%'.format(naive_accuracy*100))"
   ]
  },
  {
   "cell_type": "markdown",
   "id": "48cf9b4a",
   "metadata": {},
   "source": [
    "### Implementation by Support Vector Machine"
   ]
  },
  {
   "cell_type": "code",
   "execution_count": 14,
   "id": "8eda78ff",
   "metadata": {},
   "outputs": [
    {
     "name": "stdout",
     "output_type": "stream",
     "text": [
      "SVC model accuracy is: 56.24%\n"
     ]
    }
   ],
   "source": [
    "\n",
    "from sklearn.svm import LinearSVC\n",
    "svm_model = LinearSVC()\n",
    "svm_model.fit(x_train_tfidf, y_train)\n",
    "svm_predict = svm_model.predict(x_test_tfidf)\n",
    "\n",
    "\n",
    "\n",
    "svm_accuracy = accuracy_score(svm_predict,y_test)\n",
    "print('SVC model accuracy is: {:.2f}%'.format(svm_accuracy*100))"
   ]
  },
  {
   "cell_type": "markdown",
   "id": "b6cbcdd0",
   "metadata": {},
   "source": [
    "### Comparision of Models predictions and Actual value"
   ]
  },
  {
   "cell_type": "code",
   "execution_count": 15,
   "id": "890ba09b",
   "metadata": {},
   "outputs": [
    {
     "data": {
      "text/html": [
       "<div>\n",
       "<style scoped>\n",
       "    .dataframe tbody tr th:only-of-type {\n",
       "        vertical-align: middle;\n",
       "    }\n",
       "\n",
       "    .dataframe tbody tr th {\n",
       "        vertical-align: top;\n",
       "    }\n",
       "\n",
       "    .dataframe thead th {\n",
       "        text-align: right;\n",
       "    }\n",
       "</style>\n",
       "<table border=\"1\" class=\"dataframe\">\n",
       "  <thead>\n",
       "    <tr style=\"text-align: right;\">\n",
       "      <th></th>\n",
       "      <th>Description</th>\n",
       "      <th>Logistic_model</th>\n",
       "      <th>MultinomialNB</th>\n",
       "      <th>SVM</th>\n",
       "      <th>Actual genre</th>\n",
       "    </tr>\n",
       "  </thead>\n",
       "  <tbody>\n",
       "    <tr>\n",
       "      <th>5090</th>\n",
       "      <td>Catherine St.John-Burke is an independent, up...</td>\n",
       "      <td>drama</td>\n",
       "      <td>drama</td>\n",
       "      <td>comedy</td>\n",
       "      <td>comedy</td>\n",
       "    </tr>\n",
       "    <tr>\n",
       "      <th>30324</th>\n",
       "      <td>Beginning of the century. In a train, a young...</td>\n",
       "      <td>drama</td>\n",
       "      <td>drama</td>\n",
       "      <td>drama</td>\n",
       "      <td>short</td>\n",
       "    </tr>\n",
       "    <tr>\n",
       "      <th>6416</th>\n",
       "      <td>Jerranium 90, a \"little rock\" that made all t...</td>\n",
       "      <td>comedy</td>\n",
       "      <td>drama</td>\n",
       "      <td>sci-fi</td>\n",
       "      <td>comedy</td>\n",
       "    </tr>\n",
       "    <tr>\n",
       "      <th>20920</th>\n",
       "      <td>Deadly Tales II is an anthology of three horr...</td>\n",
       "      <td>horror</td>\n",
       "      <td>horror</td>\n",
       "      <td>horror</td>\n",
       "      <td>horror</td>\n",
       "    </tr>\n",
       "    <tr>\n",
       "      <th>29550</th>\n",
       "      <td>Grammy - music award of the American academy ...</td>\n",
       "      <td>music</td>\n",
       "      <td>music</td>\n",
       "      <td>music</td>\n",
       "      <td>music</td>\n",
       "    </tr>\n",
       "    <tr>\n",
       "      <th>...</th>\n",
       "      <td>...</td>\n",
       "      <td>...</td>\n",
       "      <td>...</td>\n",
       "      <td>...</td>\n",
       "      <td>...</td>\n",
       "    </tr>\n",
       "    <tr>\n",
       "      <th>18394</th>\n",
       "      <td>See Alaska like never before! With \"caught on...</td>\n",
       "      <td>documentary</td>\n",
       "      <td>documentary</td>\n",
       "      <td>documentary</td>\n",
       "      <td>reality-tv</td>\n",
       "    </tr>\n",
       "    <tr>\n",
       "      <th>5990</th>\n",
       "      <td>Carol Foster, a mother of seven adopted child...</td>\n",
       "      <td>drama</td>\n",
       "      <td>drama</td>\n",
       "      <td>drama</td>\n",
       "      <td>documentary</td>\n",
       "    </tr>\n",
       "    <tr>\n",
       "      <th>41819</th>\n",
       "      <td>Beijing Girl: Made in China is a candid, thou...</td>\n",
       "      <td>documentary</td>\n",
       "      <td>documentary</td>\n",
       "      <td>documentary</td>\n",
       "      <td>documentary</td>\n",
       "    </tr>\n",
       "    <tr>\n",
       "      <th>43637</th>\n",
       "      <td>The delicate relationship between a 15-year-o...</td>\n",
       "      <td>drama</td>\n",
       "      <td>drama</td>\n",
       "      <td>drama</td>\n",
       "      <td>drama</td>\n",
       "    </tr>\n",
       "    <tr>\n",
       "      <th>978</th>\n",
       "      <td>Antunes Filho's Em Compasso de Espera is a fi...</td>\n",
       "      <td>documentary</td>\n",
       "      <td>documentary</td>\n",
       "      <td>documentary</td>\n",
       "      <td>drama</td>\n",
       "    </tr>\n",
       "  </tbody>\n",
       "</table>\n",
       "<p>16265 rows × 5 columns</p>\n",
       "</div>"
      ],
      "text/plain": [
       "                                             Description Logistic_model  \\\n",
       "5090    Catherine St.John-Burke is an independent, up...         drama    \n",
       "30324   Beginning of the century. In a train, a young...         drama    \n",
       "6416    Jerranium 90, a \"little rock\" that made all t...        comedy    \n",
       "20920   Deadly Tales II is an anthology of three horr...        horror    \n",
       "29550   Grammy - music award of the American academy ...         music    \n",
       "...                                                  ...            ...   \n",
       "18394   See Alaska like never before! With \"caught on...   documentary    \n",
       "5990    Carol Foster, a mother of seven adopted child...         drama    \n",
       "41819   Beijing Girl: Made in China is a candid, thou...   documentary    \n",
       "43637   The delicate relationship between a 15-year-o...         drama    \n",
       "978     Antunes Filho's Em Compasso de Espera is a fi...   documentary    \n",
       "\n",
       "       MultinomialNB            SVM   Actual genre  \n",
       "5090          drama         comedy         comedy   \n",
       "30324         drama          drama          short   \n",
       "6416          drama         sci-fi         comedy   \n",
       "20920        horror         horror         horror   \n",
       "29550         music          music          music   \n",
       "...              ...            ...            ...  \n",
       "18394   documentary    documentary     reality-tv   \n",
       "5990          drama          drama    documentary   \n",
       "41819   documentary    documentary    documentary   \n",
       "43637         drama          drama          drama   \n",
       "978     documentary    documentary          drama   \n",
       "\n",
       "[16265 rows x 5 columns]"
      ]
     },
     "execution_count": 15,
     "metadata": {},
     "output_type": "execute_result"
    }
   ],
   "source": [
    "comparison_data = pd.DataFrame({'Description':x_test,'Logistic_model':L_prediction,'MultinomialNB':pred_naive,\n",
    "                                'SVM':svm_predict,'Actual genre':y_test})\n",
    "comparison_data"
   ]
  },
  {
   "cell_type": "markdown",
   "id": "dee4aeb5",
   "metadata": {},
   "source": [
    "### Accuracy  of the models"
   ]
  },
  {
   "cell_type": "code",
   "execution_count": 16,
   "id": "732bd047",
   "metadata": {},
   "outputs": [
    {
     "data": {
      "text/html": [
       "<div>\n",
       "<style scoped>\n",
       "    .dataframe tbody tr th:only-of-type {\n",
       "        vertical-align: middle;\n",
       "    }\n",
       "\n",
       "    .dataframe tbody tr th {\n",
       "        vertical-align: top;\n",
       "    }\n",
       "\n",
       "    .dataframe thead th {\n",
       "        text-align: right;\n",
       "    }\n",
       "</style>\n",
       "<table border=\"1\" class=\"dataframe\">\n",
       "  <thead>\n",
       "    <tr style=\"text-align: right;\">\n",
       "      <th></th>\n",
       "      <th>Algorithm</th>\n",
       "      <th>Accuracy</th>\n",
       "    </tr>\n",
       "  </thead>\n",
       "  <tbody>\n",
       "    <tr>\n",
       "      <th>0</th>\n",
       "      <td>LogisticRegression</td>\n",
       "      <td>57.84</td>\n",
       "    </tr>\n",
       "    <tr>\n",
       "      <th>1</th>\n",
       "      <td>MultinomialNB</td>\n",
       "      <td>51.04</td>\n",
       "    </tr>\n",
       "    <tr>\n",
       "      <th>2</th>\n",
       "      <td>SVC</td>\n",
       "      <td>56.24</td>\n",
       "    </tr>\n",
       "  </tbody>\n",
       "</table>\n",
       "</div>"
      ],
      "text/plain": [
       "            Algorithm Accuracy\n",
       "0  LogisticRegression    57.84\n",
       "1       MultinomialNB    51.04\n",
       "2                 SVC    56.24"
      ]
     },
     "execution_count": 16,
     "metadata": {},
     "output_type": "execute_result"
    }
   ],
   "source": [
    "columns=['LogisticRegression', 'MultinomialNB','SVC']\n",
    "accuracy= [f'{Logistic_accuracy*100:.2f}', f'{naive_accuracy*100:.2f}',f'{svm_accuracy*100:.2f}']\n",
    "\n",
    "FinalResult=pd.DataFrame({'Algorithm':columns, 'Accuracy':accuracy})\n",
    "\n",
    "FinalResult"
   ]
  },
  {
   "cell_type": "markdown",
   "id": "50959675",
   "metadata": {},
   "source": [
    "### Graphical representation of Accuracy Comparison by accuracy score"
   ]
  },
  {
   "cell_type": "code",
   "execution_count": 17,
   "id": "9d639cc3",
   "metadata": {},
   "outputs": [
    {
     "data": {
      "image/png": "[encoded data removed]",
      "text/plain": [
       "<Figure size 500x500 with 1 Axes>"
      ]
     },
     "metadata": {},
     "output_type": "display_data"
    }
   ],
   "source": [
    "sum = Logistic_accuracy+ svm_accuracy+naive_accuracy\n",
    "size1 = (Logistic_accuracy/sum)\n",
    "size2 = (svm_accuracy/sum)\n",
    "size3 = (naive_accuracy/sum)\n",
    "labels = ['LogisticRegression','SVM','Naive Bayes']\n",
    "sizes = [size1, size2,size3]\n",
    "\n",
    "\n",
    "plt.figure(figsize=(5,5))\n",
    "plt.pie(sizes, labels=labels, autopct='%1.1f%%', startangle=30)\n",
    "plt.title('Accuracy Comparison by accuracy score',fontweight = 'bold')\n",
    "plt.legend()\n",
    "plt.show()"
   ]
  },
  {
   "cell_type": "markdown",
   "id": "11700b57",
   "metadata": {},
   "source": [
    "### Count of the True predicted values by each model"
   ]
  },
  {
   "cell_type": "code",
   "execution_count": 18,
   "id": "2e8d6c06",
   "metadata": {},
   "outputs": [
    {
     "name": "stdout",
     "output_type": "stream",
     "text": [
      "Out of 16265 Naive Bayes Classifier predicted correctly: 8302\n",
      "Out of 16265 Logistic Regression Classifier predicted correctly: 9407\n",
      "Out of 16265 Support Vector Machine Classifier predicted correctly: 9148\n"
     ]
    }
   ],
   "source": [
    "count_true_predict_LR = (L_prediction == y_test).sum()\n",
    "count_true_predict_SVM = (svm_predict == y_test).sum()\n",
    "count_true_predict_NB = (pred_naive == y_test).sum()\n",
    "\n",
    "\n",
    "print(\"Out of 16265 Naive Bayes Classifier predicted correctly:\",count_true_predict_NB)\n",
    "print(\"Out of 16265 Logistic Regression Classifier predicted correctly:\", count_true_predict_LR)\n",
    "print(\"Out of 16265 Support Vector Machine Classifier predicted correctly:\", count_true_predict_SVM)"
   ]
  },
  {
   "cell_type": "markdown",
   "id": "4545fab0",
   "metadata": {},
   "source": [
    "### Graphical representation of Accuracy Comparison by True predicted values"
   ]
  },
  {
   "cell_type": "code",
   "execution_count": 19,
   "id": "1aef0027",
   "metadata": {},
   "outputs": [
    {
     "data": {
      "image/png": "[encoded data removed]",
      "text/plain": [
       "<Figure size 500x500 with 1 Axes>"
      ]
     },
     "metadata": {},
     "output_type": "display_data"
    }
   ],
   "source": [
    "sum = count_true_predict_LR+count_true_predict_NB+count_true_predict_SVM\n",
    "size1 = (count_true_predict_LR/sum)\n",
    "size2 = (count_true_predict_SVM/sum)\n",
    "size3 = (count_true_predict_NB/sum)\n",
    "labels = ['LogisticRegression','SVM','Naive Bayes']\n",
    "sizes = [size1, size2,size3]\n",
    "\n",
    "\n",
    "plt.figure(figsize=(5,5))\n",
    "plt.pie(sizes, labels=labels, autopct='%1.1f%%', startangle=80)\n",
    "plt.title('Accuracy Comparison by True predicted values',fontweight = 'bold')\n",
    "plt.legend()\n",
    "plt.show()"
   ]
  },
  {
   "cell_type": "code",
   "execution_count": null,
   "id": "f24f48fb",
   "metadata": {},
   "outputs": [],
   "source": []
  }
 ],
 "metadata": {
  "kernelspec": {
   "display_name": "Python 3 (ipykernel)",
   "language": "python",
   "name": "python3"
  },
  "language_info": {
   "codemirror_mode": {
    "name": "ipython",
    "version": 3
   },
   "file_extension": ".py",
   "mimetype": "text/x-python",
   "name": "python",
   "nbconvert_exporter": "python",
   "pygments_lexer": "ipython3",
   "version": "3.9.13"
  }
 },
 "nbformat": 4,
 "nbformat_minor": 5
}
